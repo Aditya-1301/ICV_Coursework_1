{
 "cells": [
  {
   "cell_type": "code",
   "execution_count": null,
   "id": "f4896a81-c20c-419f-9d7a-bb13d2609e9c",
   "metadata": {
    "editable": true,
    "slideshow": {
     "slide_type": ""
    },
    "tags": []
   },
   "outputs": [],
   "source": [
    "pip install opencv-python"
   ]
  },
  {
   "cell_type": "code",
   "execution_count": null,
   "id": "1d54a96f-5b18-4b2b-812c-24cd3c1976da",
   "metadata": {},
   "outputs": [],
   "source": [
    "import cv2\n",
    "import numpy as np\n",
    "import matplotlib\n",
    "import matplotlib.pyplot as plt"
   ]
  },
  {
   "cell_type": "markdown",
   "id": "9e6f6253-86ec-45e6-873a-a991494abd63",
   "metadata": {},
   "source": [
    "### Task A\n",
    "\n",
    "I defined the solution for the rotation transformation in the following way:\n",
    "\n",
    "1. Get the dimension from the image's shape, then calculate the center of the image and set up the transformation matrix\n",
    "2. Then I compute the new image's dimensions based on the transformation to accommodate the changes. This was based on a combination of trial and error and trying to make it as close to the transformed size of the image for the rotation case. For this reason I have included an if condition which checks if sin(theta) > 1/sqrt(2) to make sure we are always scaling up the overall window size for the new image.\n",
    "3. Then I begin by create a list of the original coordinates for each pixel, which are relative to the center of the image, and then apply the transformation matrix to each pixel’s coordinate.\n",
    "4. I then adjust the transformed coordinates back for the new image's dimensions and map them to the new image space by subtracting from the new center.\n",
    "5. After this when putting the pixel values for the image I check the bounds so that the image doesn't clip and so that I don't get an out of bounds issue."
   ]
  },
  {
   "cell_type": "code",
   "execution_count": null,
   "id": "5c06658c-7d2e-4770-ac09-c04b848da359",
   "metadata": {},
   "outputs": [],
   "source": [
    "def ICV_rotate_image_array(image, theta):\n",
    "    # Step 1 (Initial Setup)\n",
    "\n",
    "    width, height = image.shape # Get image shape\n",
    "    theta = np.deg2rad(theta) # convert theta to radians\n",
    "    # initialize rotation matrix\n",
    "    rotation_matrix = np.array([\n",
    "        [np.cos(theta), -np.sin(theta)],\n",
    "        [np.sin(theta),  np.cos(theta)]\n",
    "    ])\n",
    "\n",
    "    # Step 2 (Computing new image dimensions)\n",
    "\n",
    "    # Absolute value of sin(theta) and cos(theta)\n",
    "    abssin, abscos = np.abs(np.sin(theta)), np.abs(np.cos(theta))\n",
    "    # Makes sure that we are scaling the width and height of the transformed image appropriately\n",
    "    if abssin >= np.sqrt(1/2):\n",
    "        new_w, new_h = int(width * abssin + height * abssin), int(width * abssin + height * abssin)\n",
    "    else:\n",
    "        new_w, new_h = int(width * abscos + height * abscos), int(width * abscos + height * abscos)\n",
    "\n",
    "    # create the image with these new dimensions\n",
    "    new_image = np.zeros((new_w, new_h), dtype=image.dtype)\n",
    "\n",
    "    # get the center of the original image\n",
    "    center_x, center_y = width / 2, height / 2\n",
    "    # get the center of the new image\n",
    "    new_center_x, new_center_y = new_w / 2, new_h / 2\n",
    "\n",
    "    # Step 3 (Create a matrix with original coordinates for the pixels in the image)\n",
    "\n",
    "    coords = np.array([[[i - center_x, j - center_y] for j in range(height)] for i in range(width)])\n",
    "\n",
    "    # Tranform these coordinates by multiplying the rotation matrix\n",
    "    \n",
    "    coords_transformed = np.array([[rotation_matrix @ coords[i][j] for j in range(height)] for i in range(width)])\n",
    "    \n",
    "\n",
    "    for i in range(width):\n",
    "        for j in range(height):\n",
    "            # Step 4 (Adjust to the coordinate system for the new image)\n",
    "            new_x, new_y = int(coords_transformed[i][j][0] + new_center_x), int(coords_transformed[i][j][1] + new_center_y)\n",
    "\n",
    "            # Step 5 (bound checking)\n",
    "            if 0 <= new_x < new_w and 0 <= new_y < new_h:\n",
    "                new_image[new_x, new_y] = image[i, j]\n",
    "    \n",
    "    return new_image\n"
   ]
  },
  {
   "cell_type": "markdown",
   "id": "6e60340f",
   "metadata": {},
   "source": [
    "## Horizontal Skew Transformation\n",
    "\n",
    "I follow a similar approach to the rotation task but slightly different. I divided this task in the following steps:\n",
    "\n",
    "1. Get the dimension from the image's shape, then calculate the center of the image and set up the transformation matrix\n",
    "2. Then I compute the new image's dimensions based on the transformation to accommodate the changes. In this case it is simpler than the rotation case as only the width of the image changes, which is easier to transform the frame for. \n",
    "3. I transform the coordinates of the pixels in the new image based on the horizontal skew transformation. Instead of using the matrix here I apply it directly in the final for loop to reduce complexity of the code.\n",
    "4. After this when putting the pixel values for the image I check the bounds so that the image doesn't clip and so that I don't get an out of bounds issue. This time I only need to check the bounds along the x axis.\n",
    "\n",
    "This task was simpler as the transformation can be applied without changing the center of the system, which significantly simplifying the problem."
   ]
  },
  {
   "cell_type": "code",
   "execution_count": null,
   "id": "5cc57b33",
   "metadata": {},
   "outputs": [],
   "source": [
    "def ICV_skew_image_array(image, theta):\n",
    "    # Step 1: Initial Setup\n",
    "    height, width = image.shape  # Corrected order: (H, W) \n",
    "\n",
    "    theta = np.deg2rad(theta)  # Convert theta to radians\n",
    "\n",
    "    # Step 2: Compute new image dimensions based on skew angle\n",
    "    new_width = int(width + height * abs(np.tan(theta)))\n",
    "    new_height = height  # Only width changes for horizontal skew\n",
    "\n",
    "    # Create new image with calculated dimensions\n",
    "    new_image = np.zeros((new_height, new_width), dtype=image.dtype)\n",
    "\n",
    "    # Step 3: Transform coordinates for skew\n",
    "    for y in range(height):\n",
    "        for x in range(width):\n",
    "            # The operations below is equivalent to applying a horizontal skew matrix \n",
    "            new_x = int(x + y * np.tan(theta)) \n",
    "            new_y = 0 + y \n",
    "\n",
    "            # Step 4: Bound checking before assigning pixel\n",
    "            if 0 <= new_x < new_width:\n",
    "                new_image[new_y, new_x] = image[y, x]\n",
    "\n",
    "    return new_image"
   ]
  },
  {
   "cell_type": "markdown",
   "id": "c5a7767a",
   "metadata": {},
   "source": [
    "# Task B"
   ]
  },
  {
   "cell_type": "code",
   "execution_count": null,
   "id": "fe6f2369",
   "metadata": {},
   "outputs": [],
   "source": [
    "im = cv2.imread(\"Name_Image_Arial_72.png\")\n",
    "im_g = cv2.cvtColor(im, cv2.COLOR_BGR2GRAY)\n",
    "plt.imshow(im_g, cmap=\"gray\")"
   ]
  },
  {
   "cell_type": "code",
   "execution_count": null,
   "id": "3573524e",
   "metadata": {},
   "outputs": [],
   "source": [
    "for theta in [30, 60, 120, -50]:\n",
    "    plt.imshow(ICV_rotate_image_array(im_g, theta), cmap='gray')\n",
    "    plt.savefig(f\"Rotate im {theta}\")\n",
    "    plt.show()"
   ]
  },
  {
   "cell_type": "code",
   "execution_count": null,
   "id": "a314f182",
   "metadata": {},
   "outputs": [],
   "source": [
    "for theta in [10, 40, 60]:\n",
    "    plt.imshow(ICV_skew_image_array(im_g, theta), cmap='gray')\n",
    "    plt.savefig(f\"Skew im {theta}\")\n",
    "    plt.show()"
   ]
  },
  {
   "cell_type": "markdown",
   "id": "abac93c0",
   "metadata": {},
   "source": [
    "# Task C"
   ]
  },
  {
   "cell_type": "code",
   "execution_count": null,
   "id": "18c9d30d",
   "metadata": {},
   "outputs": [],
   "source": [
    "theta1, theta2 = -20, 50\n",
    "rot_im =  ICV_rotate_image_array(im_g, theta1)\n",
    "skew_im = ICV_skew_image_array(im_g, theta2)"
   ]
  },
  {
   "cell_type": "code",
   "execution_count": null,
   "id": "4b64591a",
   "metadata": {},
   "outputs": [],
   "source": [
    "plt.imshow(rot_im, cmap=\"gray\")\n",
    "plt.show()\n",
    "plt.imshow( ICV_skew_image_array(rot_im, theta1), cmap='gray')\n",
    "plt.savefig(f\"First Rotate by {theta1} clockwise and then Skew by {theta2}\")\n",
    "plt.show()"
   ]
  },
  {
   "cell_type": "code",
   "execution_count": null,
   "id": "f62c1387",
   "metadata": {},
   "outputs": [],
   "source": [
    "plt.imshow(skew_im, cmap=\"gray\")\n",
    "plt.show()\n",
    "plt.imshow(ICV_rotate_image_array(skew_im, theta1), cmap='gray')\n",
    "plt.savefig(f\"First Skew by {theta2} and then Rotate by {theta1}\")\n",
    "plt.show()"
   ]
  }
 ],
 "metadata": {
  "kernelspec": {
   "display_name": "base",
   "language": "python",
   "name": "python3"
  },
  "language_info": {
   "codemirror_mode": {
    "name": "ipython",
    "version": 3
   },
   "file_extension": ".py",
   "mimetype": "text/x-python",
   "name": "python",
   "nbconvert_exporter": "python",
   "pygments_lexer": "ipython3",
   "version": "3.9.13"
  }
 },
 "nbformat": 4,
 "nbformat_minor": 5
}
